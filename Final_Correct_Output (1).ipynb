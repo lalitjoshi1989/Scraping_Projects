{
 "cells": [
  {
   "cell_type": "code",
   "execution_count": 1,
   "id": "439c7e01",
   "metadata": {},
   "outputs": [],
   "source": [
    "from selenium import webdriver\n",
    "from selenium.webdriver.chrome.service import Service as ChromeService\n",
    "from selenium.webdriver.common.by import By\n",
    "from selenium.webdriver.chrome.options import Options\n",
    "import time\n",
    "from bs4 import BeautifulSoup\n",
    "import string\n",
    "from tqdm import tqdm\n",
    "import pandas as pd\n",
    "\n",
    "service = ChromeService(executable_path=\"D:\\Web_Driver\\chromedriver.exe\")\n",
    "driver = webdriver.Chrome(service=service)\n",
    "driver.maximize_window()"
   ]
  },
  {
   "cell_type": "code",
   "execution_count": 2,
   "id": "297968fb",
   "metadata": {},
   "outputs": [],
   "source": [
    "driver.get('https://www.canadapharmacy.com/prescription')\n",
    "time.sleep(1)"
   ]
  },
  {
   "cell_type": "code",
   "execution_count": 3,
   "id": "f951bc09",
   "metadata": {},
   "outputs": [],
   "source": [
    "test_list = []\n",
    "test_list = list(string.ascii_lowercase)"
   ]
  },
  {
   "cell_type": "code",
   "execution_count": 4,
   "id": "8cbc5473",
   "metadata": {},
   "outputs": [],
   "source": [
    "test_list_new = test_list[0:5]"
   ]
  },
  {
   "cell_type": "code",
   "execution_count": null,
   "id": "d0c1cbf0",
   "metadata": {},
   "outputs": [],
   "source": [
    "medicine_url_all = []\n",
    "for i in tqdm(test_list):\n",
    "    driver.get(f'https://www.canadapharmacy.com/prescription/{i}')\n",
    "    for k in driver.find_elements(By.XPATH,\"//h2[@class='mn']//a\"):\n",
    "        medicine_url_all2.append(k.get_attribute(\"href\"))"
   ]
  },
  {
   "cell_type": "code",
   "execution_count": 9,
   "id": "3309cc4e",
   "metadata": {},
   "outputs": [
    {
     "data": {
      "text/plain": [
       "536"
      ]
     },
     "execution_count": 9,
     "metadata": {},
     "output_type": "execute_result"
    }
   ],
   "source": [
    "len(medicine_url_all)"
   ]
  },
  {
   "cell_type": "code",
   "execution_count": null,
   "id": "880cb71b",
   "metadata": {},
   "outputs": [
    {
     "name": "stderr",
     "output_type": "stream",
     "text": [
      "  1%|▏         | 7/536 [00:33<45:59,  5.22s/it]"
     ]
    }
   ],
   "source": [
    "data = []\n",
    "sep = '\\n'\n",
    "for i in tqdm(medicine_url_all):\n",
    "    st_brand = []\n",
    "    st_generic = []\n",
    "    tab_price_brand = []\n",
    "    tab_price_generic = []\n",
    "    driver.get(i)\n",
    "    time.sleep(1)\n",
    "    \n",
    "    r = driver.page_source\n",
    "    soup = BeautifulSoup(r,'lxml')\n",
    "    \n",
    "    card = ''.join([x.get_text(' ',strip=True) for x in soup.select('div.answer.expanded')])\n",
    "    \n",
    "    try:\n",
    "        des = card.split('Directions')[0].replace('Description','')\n",
    "    except:\n",
    "        des = None\n",
    "    \n",
    "    try:\n",
    "        drc = card.split('Directions')[1].split('Ingredients')[0]\n",
    "    except:\n",
    "        drc = None\n",
    "        \n",
    "    try:\n",
    "        ingre= card.split('Directions')[1].split('Ingredients')[1].split('Cautions')[0]\n",
    "    except:\n",
    "        ingre = None\n",
    "    \n",
    "    try:\n",
    "        cau = card.split('Directions')[1].split('Ingredients')[1].split('Cautions')[1].split('Side Effects')[0]\n",
    "    except:\n",
    "        cau = None\n",
    "    try:\n",
    "        se = card.split('Directions')[1].split('Ingredients')[1].split('Cautions')[1].split('Side Effects')[1]\n",
    "    except: \n",
    "        se = None\n",
    "        \n",
    "    try:\n",
    "        main_name = (soup.find('h1',{\"class\":\"mn\"}).text.lstrip()).rstrip()\n",
    "    except:\n",
    "        main_name = None\n",
    "        \n",
    "    try:\n",
    "        pres = (soup.find('div',{\"class\":\"card product brand strength equal\"}).find('p').text.lstrip()).rstrip()\n",
    "    except:\n",
    "        pres = None\n",
    "    \n",
    "    try:\n",
    "        pres2 = (soup.find('div',{\"class\":\"card product generic strength equal\"}).find('div').find('p').text.lstrip()).rstrip()\n",
    "    except:\n",
    "        pres2 = None\n",
    "        \n",
    "    try:\n",
    "        brand_or_gen = (soup.find('div',{\"class\":\"badge-container\"}).find('div').text.lstrip()).rstrip()\n",
    "    except:\n",
    "        brand_or_gen = None \n",
    "        \n",
    "    try:\n",
    "        sec_name = ((soup.find('div',{\"class\":\"card product brand strength equal\"}).find('h3').text.lstrip()).rstrip()).split(sep, 1)[0]\n",
    "    except:\n",
    "        sec_name = None\n",
    "\n",
    "    try:\n",
    "        generic_name = (soup.find('div',{\"class\":\"card product generic strength equal\"}).find('div').find('h3').text.lstrip()).rstrip().split(sep, 1)[0]\n",
    "    except:\n",
    "        generic_name = None\n",
    "        \n",
    "    try:\n",
    "        img_url_generic = driver.find_element(By.XPATH,\"//img[@class='image generic']\").get_attribute(\"src\")\n",
    "    except:\n",
    "        img_url_generic = None\n",
    "        \n",
    "    try:\n",
    "        img_url = driver.find_element(By.XPATH,\"//img[@class='image brand']\").get_attribute(\"src\")\n",
    "    except:\n",
    "        img_url = None\n",
    "        \n",
    "    try:\n",
    "        for i in driver.find_elements(By.XPATH,\"//div[@class='card product brand strength equal']//div//form//div//div[@class='product-select-options'][1]\"):\n",
    "            st_brand.append(i.text)\n",
    "    except:\n",
    "        st_brand.append(None)\n",
    "        \n",
    "    try:\n",
    "        for i in driver.find_elements(By.XPATH,\"//div[@class='card product generic strength equal']//div//form//div//div[@class='product-select-options'][1]\"):\n",
    "            st_generic.append(i.text)\n",
    "    except:\n",
    "        st_generic.append(None)\n",
    "        \n",
    "    try:\n",
    "        for i in driver.find_elements(By.XPATH,\"//div[@class='card product brand strength equal']//div//form//div//div[@class='product-select-options'][1]\"):\n",
    "            tab_price_brand.append(i.text.replace('Select A Size...','').rstrip().replace('\\n\\n',' ').replace('\\n',','))\n",
    "    except:\n",
    "        tab_price_brand.append(None)\n",
    "    \n",
    "    try:\n",
    "        for i in driver.find_elements(By.XPATH,\"//div[@class='card product generic strength equal']//div[@class='product-select-options-row']\"):\n",
    "            tab_price_generic.append(i.text.replace('Select A Size...','').rstrip().replace('\\n\\n',' ').replace('\\n',','))\n",
    "    except:\n",
    "        tab_price_generic.append(None)\n",
    "        \n",
    "    for j in soup.find('div',{\"class\":\"answer expanded\"}).find_all('h4'):\n",
    "        if 'Product Code' in j.text:\n",
    "            prod_code = j.text\n",
    "        \n",
    "    data.append({\n",
    "        'Name':main_name,\n",
    "        'Medicine_Brand_Name':sec_name,\n",
    "        'Medicine_Generic_Name': generic_name,\n",
    "        'Prescription_Required_For_Medicine':pres,\n",
    "        'Prescription_Required_for_Generic':pres2,\n",
    "        'Product_Code':prod_code,\n",
    "        'Product_Strength_Brand':st_brand,\n",
    "        'Product_Price_Brand':tab_price_brand,\n",
    "        'Product_Strength_Generic':st_generic,\n",
    "        'Product_Price_Generic':tab_price_generic,\n",
    "        'Product_Description':des,\n",
    "        'Product_Directions':drc,\n",
    "        'Prouct_Ingredients':ingre,\n",
    "        'Product_Cautions':cau,\n",
    "        'Product_Side_Effects':se,\n",
    "        'Image_URL':img_url,\n",
    "        'Image_URL Generic':img_url_generic})"
   ]
  },
  {
   "cell_type": "code",
   "execution_count": 8,
   "id": "ecacba63",
   "metadata": {},
   "outputs": [],
   "source": [
    "df = pd.DataFrame(data)"
   ]
  },
  {
   "cell_type": "code",
   "execution_count": 9,
   "id": "2c1026e8",
   "metadata": {
    "scrolled": true
   },
   "outputs": [
    {
     "data": {
      "text/html": [
       "<div>\n",
       "<style scoped>\n",
       "    .dataframe tbody tr th:only-of-type {\n",
       "        vertical-align: middle;\n",
       "    }\n",
       "\n",
       "    .dataframe tbody tr th {\n",
       "        vertical-align: top;\n",
       "    }\n",
       "\n",
       "    .dataframe thead th {\n",
       "        text-align: right;\n",
       "    }\n",
       "</style>\n",
       "<table border=\"1\" class=\"dataframe\">\n",
       "  <thead>\n",
       "    <tr style=\"text-align: right;\">\n",
       "      <th></th>\n",
       "      <th>Name</th>\n",
       "      <th>Medicine_Brand_Name</th>\n",
       "      <th>Medicine_Generic_Name</th>\n",
       "      <th>Prescription_Required_For_Medicine</th>\n",
       "      <th>Prescription_Required_for_Generic</th>\n",
       "      <th>Product_Code</th>\n",
       "      <th>Product_Strength_Brand</th>\n",
       "      <th>Product_Price_Brand</th>\n",
       "      <th>Product_Strength_Generic</th>\n",
       "      <th>Product_Price_Generic</th>\n",
       "      <th>Product_Description</th>\n",
       "      <th>Product_Directions</th>\n",
       "      <th>Prouct_Ingredients</th>\n",
       "      <th>Product_Cautions</th>\n",
       "      <th>Product_Side_Effects</th>\n",
       "      <th>Image_URL</th>\n",
       "      <th>Image_URL Generic</th>\n",
       "    </tr>\n",
       "  </thead>\n",
       "  <tbody>\n",
       "    <tr>\n",
       "      <th>0</th>\n",
       "      <td>Abilify (Aripiprazole)</td>\n",
       "      <td>Abilify (Aripiprazole)</td>\n",
       "      <td>Generic Equivalent - Abilify (Aripiprazole)</td>\n",
       "      <td>Prescription Required</td>\n",
       "      <td>Prescription Required</td>\n",
       "      <td>Product Code : 5513</td>\n",
       "      <td>[2mg, 5mg, 10mg, 15mg, 20mg, 30mg, 1mg/ml Solu...</td>\n",
       "      <td>[2mg, 5mg, 10mg, 15mg, 20mg, 30mg, 1mg/ml Solu...</td>\n",
       "      <td>[2mg, 5mg, 10mg, 15mg, 20mg, 30mg]</td>\n",
       "      <td>[2mg 100 tablets - $98.99, 5mg 100 tablets - $...</td>\n",
       "      <td>Abilify Tablet (Aripiprazole) Abilify (Aripip...</td>\n",
       "      <td>Once you are prescribed and buy Abilify, then...</td>\n",
       "      <td>The active ingredient in Abilify medication i...</td>\n",
       "      <td>Abilify and other antipsychotic medications h...</td>\n",
       "      <td>The side effects of Abilify vary greatly depe...</td>\n",
       "      <td>https://www.canadapharmacy.com/content/images/...</td>\n",
       "      <td>https://www.canadapharmacy.com/content/images/...</td>\n",
       "    </tr>\n",
       "    <tr>\n",
       "      <th>1</th>\n",
       "      <td>Abilify Maintena (Aripiprazole)</td>\n",
       "      <td>Abilify Maintena (Aripiprazole)</td>\n",
       "      <td>None</td>\n",
       "      <td>Prescription Required</td>\n",
       "      <td>None</td>\n",
       "      <td>Product Code : 13246</td>\n",
       "      <td>[400mg Maintena]</td>\n",
       "      <td>[400mg Maintena]</td>\n",
       "      <td>[]</td>\n",
       "      <td>[]</td>\n",
       "      <td>ABILIFY is an antipsychotic medication used t...</td>\n",
       "      <td>Take ABILIFY as exactly prescribed by your do...</td>\n",
       "      <td>Aripiprazole</td>\n",
       "      <td>Some medical conditions may interact with ABI...</td>\n",
       "      <td>Patients should not use ABILIFY if they are a...</td>\n",
       "      <td>https://www.canadapharmacy.com/content/images/...</td>\n",
       "      <td>None</td>\n",
       "    </tr>\n",
       "    <tr>\n",
       "      <th>2</th>\n",
       "      <td>Abilify ODT (Aripiprazole)</td>\n",
       "      <td>Abilify ODT (Aripiprazole)</td>\n",
       "      <td>Generic Equivalent - Abilify ODT (Aripiprazole)</td>\n",
       "      <td>Prescription Required</td>\n",
       "      <td>Prescription Required</td>\n",
       "      <td>Product Code : 11673</td>\n",
       "      <td>[10mg ODT, 15mg ODT]</td>\n",
       "      <td>[10mg ODT, 15mg ODT]</td>\n",
       "      <td>[5mg ODT, 20mg ODT, 30mg ODT]</td>\n",
       "      <td>[5mg ODT 90 tablets - $59.00, 20mg ODT 90 tabl...</td>\n",
       "      <td>Abilify ODT is an antipsychotic medication us...</td>\n",
       "      <td>Place Abilify ODT directly on the tongue with...</td>\n",
       "      <td>The active ingredient in Abilify ODT is aripi...</td>\n",
       "      <td>Tell your doctor if you have a history of any...</td>\n",
       "      <td>Common Abilify side effects may include: Akat...</td>\n",
       "      <td>https://www.canadapharmacy.com/content/images/...</td>\n",
       "      <td>https://www.canadapharmacy.com/content/images/...</td>\n",
       "    </tr>\n",
       "    <tr>\n",
       "      <th>3</th>\n",
       "      <td>None</td>\n",
       "      <td>None</td>\n",
       "      <td>None</td>\n",
       "      <td>None</td>\n",
       "      <td>None</td>\n",
       "      <td>Product Code : 13701</td>\n",
       "      <td>[]</td>\n",
       "      <td>[]</td>\n",
       "      <td>[]</td>\n",
       "      <td>[]</td>\n",
       "      <td>House dust mite allergen extract belongs to t...</td>\n",
       "      <td>The recommended adult dose of this medication...</td>\n",
       "      <td>Each white to off-white, circular sublingual ...</td>\n",
       "      <td></td>\n",
       "      <td>None</td>\n",
       "      <td>None</td>\n",
       "      <td>None</td>\n",
       "    </tr>\n",
       "    <tr>\n",
       "      <th>4</th>\n",
       "      <td>Accolate (Zafirlukast)</td>\n",
       "      <td>None</td>\n",
       "      <td>Generic Equivalent - Accolate (Zafirlukast)</td>\n",
       "      <td>None</td>\n",
       "      <td>Prescription Required</td>\n",
       "      <td>Product Code : 1307</td>\n",
       "      <td>[]</td>\n",
       "      <td>[]</td>\n",
       "      <td>[10mg, 20mg]</td>\n",
       "      <td>[10mg 60 tablets - $109.00, 20mg 60 tablets - ...</td>\n",
       "      <td>Accolate, 20 mg zafirlukast Dosage and Purpos...</td>\n",
       "      <td>The drug needs to be ingested by mouth (orall...</td>\n",
       "      <td>The most active substance is Zafirlukast, wit...</td>\n",
       "      <td>Take all medicines with a doctor’s prescripti...</td>\n",
       "      <td>Although the side effects listed below are no...</td>\n",
       "      <td>None</td>\n",
       "      <td>https://www.canadapharmacy.com/content/images/...</td>\n",
       "    </tr>\n",
       "  </tbody>\n",
       "</table>\n",
       "</div>"
      ],
      "text/plain": [
       "                              Name              Medicine_Brand_Name  \\\n",
       "0           Abilify (Aripiprazole)           Abilify (Aripiprazole)   \n",
       "1  Abilify Maintena (Aripiprazole)  Abilify Maintena (Aripiprazole)   \n",
       "2       Abilify ODT (Aripiprazole)       Abilify ODT (Aripiprazole)   \n",
       "3                             None                             None   \n",
       "4           Accolate (Zafirlukast)                             None   \n",
       "\n",
       "                             Medicine_Generic_Name  \\\n",
       "0      Generic Equivalent - Abilify (Aripiprazole)   \n",
       "1                                             None   \n",
       "2  Generic Equivalent - Abilify ODT (Aripiprazole)   \n",
       "3                                             None   \n",
       "4      Generic Equivalent - Accolate (Zafirlukast)   \n",
       "\n",
       "  Prescription_Required_For_Medicine Prescription_Required_for_Generic  \\\n",
       "0              Prescription Required             Prescription Required   \n",
       "1              Prescription Required                              None   \n",
       "2              Prescription Required             Prescription Required   \n",
       "3                               None                              None   \n",
       "4                               None             Prescription Required   \n",
       "\n",
       "            Product_Code                             Product_Strength_Brand  \\\n",
       "0   Product Code : 5513   [2mg, 5mg, 10mg, 15mg, 20mg, 30mg, 1mg/ml Solu...   \n",
       "1  Product Code : 13246                                    [400mg Maintena]   \n",
       "2  Product Code : 11673                                [10mg ODT, 15mg ODT]   \n",
       "3  Product Code : 13701                                                  []   \n",
       "4   Product Code : 1307                                                  []   \n",
       "\n",
       "                                 Product_Price_Brand  \\\n",
       "0  [2mg, 5mg, 10mg, 15mg, 20mg, 30mg, 1mg/ml Solu...   \n",
       "1                                   [400mg Maintena]   \n",
       "2                               [10mg ODT, 15mg ODT]   \n",
       "3                                                 []   \n",
       "4                                                 []   \n",
       "\n",
       "             Product_Strength_Generic  \\\n",
       "0  [2mg, 5mg, 10mg, 15mg, 20mg, 30mg]   \n",
       "1                                  []   \n",
       "2       [5mg ODT, 20mg ODT, 30mg ODT]   \n",
       "3                                  []   \n",
       "4                        [10mg, 20mg]   \n",
       "\n",
       "                               Product_Price_Generic  \\\n",
       "0  [2mg 100 tablets - $98.99, 5mg 100 tablets - $...   \n",
       "1                                                 []   \n",
       "2  [5mg ODT 90 tablets - $59.00, 20mg ODT 90 tabl...   \n",
       "3                                                 []   \n",
       "4  [10mg 60 tablets - $109.00, 20mg 60 tablets - ...   \n",
       "\n",
       "                                 Product_Description  \\\n",
       "0   Abilify Tablet (Aripiprazole) Abilify (Aripip...   \n",
       "1   ABILIFY is an antipsychotic medication used t...   \n",
       "2   Abilify ODT is an antipsychotic medication us...   \n",
       "3   House dust mite allergen extract belongs to t...   \n",
       "4   Accolate, 20 mg zafirlukast Dosage and Purpos...   \n",
       "\n",
       "                                  Product_Directions  \\\n",
       "0   Once you are prescribed and buy Abilify, then...   \n",
       "1   Take ABILIFY as exactly prescribed by your do...   \n",
       "2   Place Abilify ODT directly on the tongue with...   \n",
       "3   The recommended adult dose of this medication...   \n",
       "4   The drug needs to be ingested by mouth (orall...   \n",
       "\n",
       "                                  Prouct_Ingredients  \\\n",
       "0   The active ingredient in Abilify medication i...   \n",
       "1                                      Aripiprazole    \n",
       "2   The active ingredient in Abilify ODT is aripi...   \n",
       "3   Each white to off-white, circular sublingual ...   \n",
       "4   The most active substance is Zafirlukast, wit...   \n",
       "\n",
       "                                    Product_Cautions  \\\n",
       "0   Abilify and other antipsychotic medications h...   \n",
       "1   Some medical conditions may interact with ABI...   \n",
       "2   Tell your doctor if you have a history of any...   \n",
       "3                                                      \n",
       "4   Take all medicines with a doctor’s prescripti...   \n",
       "\n",
       "                                Product_Side_Effects  \\\n",
       "0   The side effects of Abilify vary greatly depe...   \n",
       "1   Patients should not use ABILIFY if they are a...   \n",
       "2   Common Abilify side effects may include: Akat...   \n",
       "3                                               None   \n",
       "4   Although the side effects listed below are no...   \n",
       "\n",
       "                                           Image_URL  \\\n",
       "0  https://www.canadapharmacy.com/content/images/...   \n",
       "1  https://www.canadapharmacy.com/content/images/...   \n",
       "2  https://www.canadapharmacy.com/content/images/...   \n",
       "3                                               None   \n",
       "4                                               None   \n",
       "\n",
       "                                   Image_URL Generic  \n",
       "0  https://www.canadapharmacy.com/content/images/...  \n",
       "1                                               None  \n",
       "2  https://www.canadapharmacy.com/content/images/...  \n",
       "3                                               None  \n",
       "4  https://www.canadapharmacy.com/content/images/...  "
      ]
     },
     "execution_count": 9,
     "metadata": {},
     "output_type": "execute_result"
    }
   ],
   "source": [
    "df.head()"
   ]
  },
  {
   "cell_type": "code",
   "execution_count": 10,
   "id": "8389eeae",
   "metadata": {},
   "outputs": [
    {
     "data": {
      "text/plain": [
       "['2mg 100 tablets - $98.99',\n",
       " '5mg 100 tablets - $43.99',\n",
       " '10mg 90 tablets - $38.59',\n",
       " '15mg 90 tablets - $56.59',\n",
       " '20mg 90 tablets - $67.99',\n",
       " '30mg 84 tablets - $75.99']"
      ]
     },
     "execution_count": 10,
     "metadata": {},
     "output_type": "execute_result"
    }
   ],
   "source": [
    "df['Product_Price_Generic'][0]"
   ]
  },
  {
   "cell_type": "code",
   "execution_count": 33,
   "id": "d833abc2",
   "metadata": {},
   "outputs": [],
   "source": [
    "df.to_csv('D:\\Medical_Scrape_project\\data_final_1_12.csv')"
   ]
  },
  {
   "cell_type": "code",
   "execution_count": 2,
   "id": "7cef932d",
   "metadata": {},
   "outputs": [],
   "source": [
    "driver.get('https://www.canadapharmacy.com/products/abilify-tablet')"
   ]
  },
  {
   "cell_type": "code",
   "execution_count": 3,
   "id": "98d455d4",
   "metadata": {},
   "outputs": [
    {
     "name": "stdout",
     "output_type": "stream",
     "text": [
      "2mg\n",
      "5mg\n",
      "10mg\n",
      "15mg\n",
      "20mg\n",
      "30mg\n",
      "1mg/ml Solution\n"
     ]
    }
   ],
   "source": [
    "for i in driver.find_elements(By.XPATH,\"//div[@class='card product brand strength equal']//div//form//div//div[@class='product-select-options'][1]\"):\n",
    "    print(i.text)"
   ]
  },
  {
   "cell_type": "code",
   "execution_count": 29,
   "id": "2a1cf97f",
   "metadata": {},
   "outputs": [],
   "source": [
    "test_med = []\n",
    "for i in driver.find_elements(By.XPATH,\"//div[@class='card product generic strength equal']//div//form//div//div[@class='product-select-options'][2]//div//select//option\"):\n",
    "    if i.text != 'Select A Size...':\n",
    "        test_med.append(i.text)\n",
    "    else:\n",
    "        pass"
   ]
  },
  {
   "cell_type": "code",
   "execution_count": 30,
   "id": "354da17f",
   "metadata": {},
   "outputs": [
    {
     "data": {
      "text/plain": [
       "['100 tablets - $98.99',\n",
       " '100 tablets - $43.99',\n",
       " '90 tablets - $38.59',\n",
       " '90 tablets - $56.59',\n",
       " '90 tablets - $67.99',\n",
       " '84 tablets - $75.99']"
      ]
     },
     "execution_count": 30,
     "metadata": {},
     "output_type": "execute_result"
    }
   ],
   "source": [
    "test_med"
   ]
  },
  {
   "cell_type": "code",
   "execution_count": 25,
   "id": "fe2585f5",
   "metadata": {},
   "outputs": [],
   "source": [
    "test_st_price = []\n",
    "for i in driver.find_elements(By.XPATH,\"//div[@class='card product brand strength equal']//div[@class='product-select-options-row']\"):\n",
    "    test_st_price.append(i.text.replace('Select A Size...','').rstrip().replace('\\n\\n',' ').replace('\\n',' , '))"
   ]
  },
  {
   "cell_type": "code",
   "execution_count": 26,
   "id": "7f2fcd01",
   "metadata": {},
   "outputs": [
    {
     "data": {
      "text/plain": [
       "['2mg 30 tablets - $219.99 , 90 tablets - $526.99',\n",
       " '5mg 28 tablets - $160.99 , 84 tablets - $459.99',\n",
       " '10mg 28 tablets - $116.99 , 84 tablets - $162.99',\n",
       " '15mg 28 tablets - $159.99 , 84 tablets - $198.99',\n",
       " '20mg 90 tablets - $745.99',\n",
       " '30mg 28 tablets - $104.99 , 84 tablets - $289.99',\n",
       " '1mg/ml Solution 150 ml - $239.99']"
      ]
     },
     "execution_count": 26,
     "metadata": {},
     "output_type": "execute_result"
    }
   ],
   "source": [
    "test_st_price"
   ]
  },
  {
   "cell_type": "code",
   "execution_count": 21,
   "id": "06963ce4",
   "metadata": {},
   "outputs": [],
   "source": [
    "import requests"
   ]
  },
  {
   "cell_type": "code",
   "execution_count": 22,
   "id": "c6d5248f",
   "metadata": {},
   "outputs": [],
   "source": [
    "r = requests.get('https://www.canadapharmacy.com/products/abilify-tablet')"
   ]
  },
  {
   "cell_type": "code",
   "execution_count": 23,
   "id": "a7fc5f40",
   "metadata": {},
   "outputs": [],
   "source": [
    "soup = BeautifulSoup(r.text, 'lxml')"
   ]
  },
  {
   "cell_type": "code",
   "execution_count": 27,
   "id": "b2454c07",
   "metadata": {},
   "outputs": [],
   "source": [
    "sep = '\\n'"
   ]
  },
  {
   "cell_type": "code",
   "execution_count": 28,
   "id": "f35330ad",
   "metadata": {},
   "outputs": [
    {
     "data": {
      "text/plain": [
       "'Abilify (Aripiprazole)'"
      ]
     },
     "execution_count": 28,
     "metadata": {},
     "output_type": "execute_result"
    }
   ],
   "source": [
    "((soup.find('div',{\"class\":\"card product brand strength equal\"}).find('h3').text.lstrip()).rstrip()).split(sep, 1)[0]"
   ]
  },
  {
   "cell_type": "code",
   "execution_count": 29,
   "id": "41d8ba53",
   "metadata": {},
   "outputs": [
    {
     "data": {
      "text/plain": [
       "'Generic Equivalent - Abilify (Aripiprazole)'"
      ]
     },
     "execution_count": 29,
     "metadata": {},
     "output_type": "execute_result"
    }
   ],
   "source": [
    "(soup.find('div',{\"class\":\"card product generic strength equal\"}).find('div').find('h3').text.lstrip()).rstrip().split(sep, 1)[0]"
   ]
  },
  {
   "cell_type": "code",
   "execution_count": 157,
   "id": "f6cdfbbd",
   "metadata": {},
   "outputs": [],
   "source": [
    "df.to_csv('D:\\Medical_Scrape_project\\data_final_1_12.csv')"
   ]
  },
  {
   "cell_type": "code",
   "execution_count": 7,
   "id": "97330720",
   "metadata": {},
   "outputs": [],
   "source": [
    "from datetime import date"
   ]
  },
  {
   "cell_type": "code",
   "execution_count": 8,
   "id": "a9c24040",
   "metadata": {},
   "outputs": [
    {
     "data": {
      "text/plain": [
       "datetime.date(2022, 12, 1)"
      ]
     },
     "execution_count": 8,
     "metadata": {},
     "output_type": "execute_result"
    }
   ],
   "source": [
    "today = date.today()\n",
    "today"
   ]
  },
  {
   "cell_type": "code",
   "execution_count": null,
   "id": "4968fdb5",
   "metadata": {},
   "outputs": [],
   "source": []
  },
  {
   "cell_type": "code",
   "execution_count": 116,
   "id": "2861bedf",
   "metadata": {},
   "outputs": [
    {
     "name": "stdout",
     "output_type": "stream",
     "text": [
      "2mg\n",
      "5mg\n",
      "10mg\n",
      "15mg\n",
      "20mg\n",
      "30mg\n",
      "1mg/ml Solution\n"
     ]
    }
   ],
   "source": [
    "for i in range(len(df['Product Strength'][0])):\n",
    "    print(df['Product Strength'][0][i])"
   ]
  },
  {
   "cell_type": "code",
   "execution_count": 112,
   "id": "22a16f68",
   "metadata": {},
   "outputs": [
    {
     "name": "stderr",
     "output_type": "stream",
     "text": [
      "C:\\Users\\DELL\\AppData\\Local\\Temp\\ipykernel_15216\\1764651990.py:2: FutureWarning: The default dtype for empty Series will be 'object' instead of 'float64' in a future version. Specify a dtype explicitly to silence this warning.\n",
      "  df['Price'][i] = pd.Series(df['tab_price'][i])\n"
     ]
    }
   ],
   "source": [
    "for i in range(len(df['tab_price'])):\n",
    "    df['Price'][i] = pd.Series(df['tab_price'][i])"
   ]
  },
  {
   "cell_type": "code",
   "execution_count": null,
   "id": "7ef22c60",
   "metadata": {},
   "outputs": [],
   "source": []
  },
  {
   "cell_type": "code",
   "execution_count": 115,
   "id": "838ee872",
   "metadata": {},
   "outputs": [
    {
     "data": {
      "text/plain": [
       "0               1 inhaler - $93.993 inhalers - $188.99\n",
       "1    1 inhaler - $109.992 inhalers - $214.993 inhal...\n",
       "2    1 inhaler - $99.992 inhalers - $199.003 inhale...\n",
       "dtype: object"
      ]
     },
     "execution_count": 115,
     "metadata": {},
     "output_type": "execute_result"
    }
   ],
   "source": [
    "df['Price'][24]"
   ]
  },
  {
   "cell_type": "code",
   "execution_count": null,
   "id": "aa7eb955",
   "metadata": {},
   "outputs": [],
   "source": []
  },
  {
   "cell_type": "code",
   "execution_count": 147,
   "id": "2e56956d",
   "metadata": {},
   "outputs": [
    {
     "name": "stdout",
     "output_type": "stream",
     "text": [
      "2mg\n",
      "5mg\n",
      "10mg\n",
      "15mg\n",
      "20mg\n",
      "30mg\n",
      "1mg/ml Solution\n"
     ]
    }
   ],
   "source": [
    "for i in driver.find_elements(By.XPATH,\"//div[@class='card product brand strength equal']//div//form//div//div[@class='product-select-options'][1]\"):\n",
    "    print(i.text)"
   ]
  },
  {
   "cell_type": "code",
   "execution_count": 148,
   "id": "c32b39b9",
   "metadata": {},
   "outputs": [
    {
     "name": "stdout",
     "output_type": "stream",
     "text": [
      "2mg\n",
      "5mg\n",
      "10mg\n",
      "15mg\n",
      "20mg\n",
      "30mg\n"
     ]
    }
   ],
   "source": [
    "for i in driver.find_elements(By.XPATH,\"//div[@class='card product generic strength equal']//div//form//div//div[@class='product-select-options'][1]\"):\n",
    "    print(i.text)"
   ]
  },
  {
   "cell_type": "code",
   "execution_count": null,
   "id": "ef32e5de",
   "metadata": {},
   "outputs": [],
   "source": []
  },
  {
   "cell_type": "code",
   "execution_count": null,
   "id": "94e99d97",
   "metadata": {},
   "outputs": [],
   "source": []
  },
  {
   "cell_type": "code",
   "execution_count": 106,
   "id": "87ac65ac",
   "metadata": {},
   "outputs": [
    {
     "ename": "AttributeError",
     "evalue": "'list' object has no attribute 'unique'",
     "output_type": "error",
     "traceback": [
      "\u001b[1;31m---------------------------------------------------------------------------\u001b[0m",
      "\u001b[1;31mAttributeError\u001b[0m                            Traceback (most recent call last)",
      "\u001b[1;32m~\\AppData\\Local\\Temp\\ipykernel_15216\\3848292392.py\u001b[0m in \u001b[0;36m<module>\u001b[1;34m\u001b[0m\n\u001b[0;32m      1\u001b[0m \u001b[1;32mfor\u001b[0m \u001b[0mi\u001b[0m \u001b[1;32min\u001b[0m \u001b[0mrange\u001b[0m\u001b[1;33m(\u001b[0m\u001b[0mlen\u001b[0m\u001b[1;33m(\u001b[0m\u001b[0mdf\u001b[0m\u001b[1;33m[\u001b[0m\u001b[1;34m'Product Strength'\u001b[0m\u001b[1;33m]\u001b[0m\u001b[1;33m)\u001b[0m\u001b[1;33m)\u001b[0m\u001b[1;33m:\u001b[0m\u001b[1;33m\u001b[0m\u001b[1;33m\u001b[0m\u001b[0m\n\u001b[1;32m----> 2\u001b[1;33m     \u001b[0mdf\u001b[0m\u001b[1;33m[\u001b[0m\u001b[1;34m'Product Strength'\u001b[0m\u001b[1;33m]\u001b[0m\u001b[1;33m[\u001b[0m\u001b[0mi\u001b[0m\u001b[1;33m]\u001b[0m\u001b[1;33m.\u001b[0m\u001b[0munique\u001b[0m\u001b[1;33m(\u001b[0m\u001b[1;33m)\u001b[0m\u001b[1;33m\u001b[0m\u001b[1;33m\u001b[0m\u001b[0m\n\u001b[0m",
      "\u001b[1;31mAttributeError\u001b[0m: 'list' object has no attribute 'unique'"
     ]
    }
   ],
   "source": [
    "for i in range(len(df['Product Strength'])):\n",
    "    df['Product Strength'][i].unique()"
   ]
  },
  {
   "cell_type": "code",
   "execution_count": 90,
   "id": "84c4e975",
   "metadata": {
    "scrolled": true
   },
   "outputs": [
    {
     "data": {
      "text/plain": [
       "'1 inhaler - $93.993 inhalers - $188.99'"
      ]
     },
     "execution_count": 90,
     "metadata": {},
     "output_type": "execute_result"
    }
   ],
   "source": [
    "df['tab_price'][24][0]"
   ]
  },
  {
   "cell_type": "code",
   "execution_count": null,
   "id": "a675d8d8",
   "metadata": {},
   "outputs": [],
   "source": []
  },
  {
   "cell_type": "code",
   "execution_count": null,
   "id": "183fbd5e",
   "metadata": {},
   "outputs": [],
   "source": [
    "df[]"
   ]
  },
  {
   "cell_type": "code",
   "execution_count": 144,
   "id": "a031c31c",
   "metadata": {},
   "outputs": [],
   "source": [
    "driver.get('https://www.canadapharmacy.com/products/abilify-tablet')"
   ]
  },
  {
   "cell_type": "code",
   "execution_count": 145,
   "id": "6f29201e",
   "metadata": {},
   "outputs": [
    {
     "name": "stdout",
     "output_type": "stream",
     "text": [
      "30 tablets - $219.99\n",
      "28 tablets - $160.99\n",
      "28 tablets - $116.99\n",
      "28 tablets - $159.99\n",
      "90 tablets - $745.99\n",
      "28 tablets - $104.99\n",
      "150 ml - $239.99\n"
     ]
    }
   ],
   "source": [
    "for i in driver.find_elements(By.XPATH,\"//div[@class='card product brand strength equal']//div//form//div//div[@class='product-select-options'][2]//div//select//option[2]\"):\n",
    "    print(i.text)"
   ]
  },
  {
   "cell_type": "code",
   "execution_count": 143,
   "id": "848e3d39",
   "metadata": {},
   "outputs": [
    {
     "name": "stdout",
     "output_type": "stream",
     "text": [
      "100 tablets - $98.99\n",
      "100 tablets - $43.99\n",
      "90 tablets - $38.59\n",
      "90 tablets - $56.59\n",
      "90 tablets - $67.99\n",
      "84 tablets - $75.99\n"
     ]
    }
   ],
   "source": [
    "for i in driver.find_elements(By.XPATH,\"//div[@class='card product generic strength equal']//div//form//div//div[@class='product-select-options'][2]//div//select//option[2]\"):\n",
    "    print(i.text)"
   ]
  },
  {
   "cell_type": "code",
   "execution_count": 56,
   "id": "65748af4",
   "metadata": {},
   "outputs": [],
   "source": [
    "import requests"
   ]
  },
  {
   "cell_type": "code",
   "execution_count": 92,
   "id": "eb5fc157",
   "metadata": {},
   "outputs": [],
   "source": [
    "r = requests.get('https://www.canadapharmacy.com/products/lamictal')"
   ]
  },
  {
   "cell_type": "code",
   "execution_count": 93,
   "id": "933152c3",
   "metadata": {},
   "outputs": [],
   "source": [
    "soup = BeautifulSoup(r.text,'lxml')"
   ]
  },
  {
   "cell_type": "code",
   "execution_count": 94,
   "id": "12abd3ec",
   "metadata": {},
   "outputs": [
    {
     "name": "stdout",
     "output_type": "stream",
     "text": [
      "Lamictal (Lamotrigine)\n"
     ]
    }
   ],
   "source": [
    "try:\n",
    "    print(((soup.find('div',{\"class\":\"card product brand strength equal\"}).find('h3').text.lstrip()).rstrip()).split(sep, 1)[0])\n",
    "except:\n",
    "    print(\"error\")"
   ]
  },
  {
   "cell_type": "code",
   "execution_count": 95,
   "id": "f658b45d",
   "metadata": {},
   "outputs": [
    {
     "data": {
      "text/plain": [
       "'Generic Equivalent - Lamictal (Lamotrigine)'"
      ]
     },
     "execution_count": 95,
     "metadata": {},
     "output_type": "execute_result"
    }
   ],
   "source": [
    "(soup.find('div',{\"class\":\"card product generic strength equal\"}).find('div').find('h3').text.lstrip()).rstrip().split(sep, 1)[0]"
   ]
  },
  {
   "cell_type": "code",
   "execution_count": 96,
   "id": "04b73ee7",
   "metadata": {},
   "outputs": [],
   "source": [
    "tab_price_test = []\n",
    "for i in driver.find_elements(By.XPATH,\"//div[@class='card product brand strength equal']//div//form//div//div[@class='product-select-options'][2]\"):\n",
    "    tab_price_test.append((((i.text).replace('Select A Size...','').replace('\\n',' ')).lstrip()).rstrip())"
   ]
  },
  {
   "cell_type": "code",
   "execution_count": 102,
   "id": "974965ff",
   "metadata": {},
   "outputs": [
    {
     "data": {
      "text/plain": [
       "'30 chewables - $29.99'"
      ]
     },
     "execution_count": 102,
     "metadata": {},
     "output_type": "execute_result"
    }
   ],
   "source": [
    "tab_price_test[1]"
   ]
  },
  {
   "cell_type": "code",
   "execution_count": 98,
   "id": "0ce9f780",
   "metadata": {},
   "outputs": [],
   "source": [
    "sth_test = []\n",
    "for i in driver.find_elements(By.XPATH,\"//div[@class='card product brand strength equal']//div//form//div//div[@class='product-select-options'][1]\"):\n",
    "    sth_test.append(i.text)"
   ]
  },
  {
   "cell_type": "code",
   "execution_count": 103,
   "id": "2f8aec7a",
   "metadata": {},
   "outputs": [
    {
     "data": {
      "text/plain": [
       "'5mg (Dispersible chew)'"
      ]
     },
     "execution_count": 103,
     "metadata": {},
     "output_type": "execute_result"
    }
   ],
   "source": [
    "sth_test[1]"
   ]
  },
  {
   "cell_type": "code",
   "execution_count": 47,
   "id": "687619a2",
   "metadata": {},
   "outputs": [
    {
     "data": {
      "text/plain": [
       "'1 inhaler - $93.993 inhalers - $188.99'"
      ]
     },
     "execution_count": 47,
     "metadata": {},
     "output_type": "execute_result"
    }
   ],
   "source": [
    "(tab_price_test[0].replace('Select A Size...','')).replace('\\n','')"
   ]
  },
  {
   "cell_type": "code",
   "execution_count": 32,
   "id": "901ac785",
   "metadata": {},
   "outputs": [],
   "source": [
    "import re"
   ]
  },
  {
   "cell_type": "code",
   "execution_count": 40,
   "id": "dd5ab762",
   "metadata": {},
   "outputs": [
    {
     "ename": "TypeError",
     "evalue": "sub() missing 1 required positional argument: 'string'",
     "output_type": "error",
     "traceback": [
      "\u001b[1;31m---------------------------------------------------------------------------\u001b[0m",
      "\u001b[1;31mTypeError\u001b[0m                                 Traceback (most recent call last)",
      "\u001b[1;32m~\\AppData\\Local\\Temp\\ipykernel_15216\\1907257265.py\u001b[0m in \u001b[0;36m<module>\u001b[1;34m\u001b[0m\n\u001b[0;32m      1\u001b[0m \u001b[0mtext\u001b[0m \u001b[1;33m=\u001b[0m \u001b[0mstr\u001b[0m\u001b[1;33m(\u001b[0m\u001b[0mtab_price_test\u001b[0m\u001b[1;33m[\u001b[0m\u001b[1;36m0\u001b[0m\u001b[1;33m]\u001b[0m\u001b[1;33m)\u001b[0m\u001b[1;33m\u001b[0m\u001b[1;33m\u001b[0m\u001b[0m\n\u001b[0;32m      2\u001b[0m \u001b[0mstri\u001b[0m \u001b[1;33m=\u001b[0m \u001b[1;34m''\u001b[0m\u001b[1;33m\u001b[0m\u001b[1;33m\u001b[0m\u001b[0m\n\u001b[1;32m----> 3\u001b[1;33m \u001b[0mre\u001b[0m\u001b[1;33m.\u001b[0m\u001b[0msub\u001b[0m\u001b[1;33m(\u001b[0m\u001b[1;34mr'^.*?n'\u001b[0m\u001b[1;33m,\u001b[0m \u001b[0mtext\u001b[0m\u001b[1;33m)\u001b[0m\u001b[1;33m\u001b[0m\u001b[1;33m\u001b[0m\u001b[0m\n\u001b[0m",
      "\u001b[1;31mTypeError\u001b[0m: sub() missing 1 required positional argument: 'string'"
     ]
    }
   ],
   "source": [
    "text = str(tab_price_test[0])\n",
    "stri = ''\n",
    "re.sub(r'^.*?n', text)"
   ]
  },
  {
   "cell_type": "code",
   "execution_count": 38,
   "id": "e1eac0e9",
   "metadata": {},
   "outputs": [
    {
     "data": {
      "text/plain": [
       "'Select A Size...\\n1 inhaler - $93.99\\n3 inhalers - $188.99\\nSelect A Size...'"
      ]
     },
     "execution_count": 38,
     "metadata": {},
     "output_type": "execute_result"
    }
   ],
   "source": [
    "text"
   ]
  },
  {
   "cell_type": "code",
   "execution_count": 44,
   "id": "b3fa8829",
   "metadata": {},
   "outputs": [],
   "source": [
    "regex = r\"^.*?n\"\n",
    "test_str = \"Select A Size...\\\\n1 inhaler - $93.99\\\\n3 inhalers - $188.99\\\\nSelect A Size...\"\n",
    "subst = \"\"\n",
    "result = re.sub(regex, subst, test_str)"
   ]
  },
  {
   "cell_type": "code",
   "execution_count": 45,
   "id": "3c66cc3e",
   "metadata": {},
   "outputs": [
    {
     "data": {
      "text/plain": [
       "'1 inhaler - $93.99\\\\n3 inhalers - $188.99\\\\nSelect A Size...'"
      ]
     },
     "execution_count": 45,
     "metadata": {},
     "output_type": "execute_result"
    }
   ],
   "source": [
    "result"
   ]
  },
  {
   "cell_type": "code",
   "execution_count": null,
   "id": "fecadb71",
   "metadata": {},
   "outputs": [],
   "source": []
  }
 ],
 "metadata": {
  "kernelspec": {
   "display_name": "Python 3 (ipykernel)",
   "language": "python",
   "name": "python3"
  },
  "language_info": {
   "codemirror_mode": {
    "name": "ipython",
    "version": 3
   },
   "file_extension": ".py",
   "mimetype": "text/x-python",
   "name": "python",
   "nbconvert_exporter": "python",
   "pygments_lexer": "ipython3",
   "version": "3.9.13"
  }
 },
 "nbformat": 4,
 "nbformat_minor": 5
}
